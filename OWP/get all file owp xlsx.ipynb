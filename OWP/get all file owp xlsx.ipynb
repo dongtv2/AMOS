{
 "cells": [
  {
   "cell_type": "markdown",
   "metadata": {},
   "source": [
    "# Lấy danh sách các file owp"
   ]
  },
  {
   "cell_type": "code",
   "execution_count": null,
   "metadata": {},
   "outputs": [],
   "source": [
    "import pandas as pd\n",
    "import os\n",
    "\n",
    "# Thư mục cha chứa các folder con với file .xlsm / Có thể thay đổi theo\n",
    "parent_folder = r'C:\\Users\\thanv\\OneDrive - VietJet Aviation Joint Stock Company\\Work package\\OWP\\OWP\\2023\\07.2023'\n",
    "\n",
    "# Tạo một DataFrame trống để chứa dữ liệu\n",
    "combined_data = pd.DataFrame()\n",
    "\n",
    "# Duyệt qua tất cả các thư mục và tệp tin bên trong\n",
    "for root, dirs, files in os.walk(parent_folder):\n",
    "    for file in files:\n",
    "        if file.endswith('.xlsm'):\n",
    "            file_path = os.path.join(root, file)\n",
    "            print(f\"Đang xử lý file: {file_path}\")  # Để theo dõi tiến trình\n",
    "            \n",
    "            # Đọc file .xlsm từ sheet \"OWP Editor\"\n",
    "            try:\n",
    "                df = pd.read_excel(file_path, sheet_name='OWP Editor', engine='openpyxl')\n",
    "            except Exception as e:\n",
    "                print(f\"Lỗi khi đọc sheet 'OWP Editor' trong file: {file_path}. Bỏ qua file này.\")\n",
    "                continue\n",
    "            \n",
    "            # Loại bỏ các dòng trùng lặp trong từng file\n",
    "            df = df.drop_duplicates()\n",
    "            \n",
    "            # Kết hợp dữ liệu\n",
    "            combined_data = pd.concat([combined_data, df], ignore_index=True)\n",
    "\n",
    "# Loại bỏ các dòng trùng lặp trong dữ liệu đã kết hợp\n",
    "combined_data = combined_data.drop_duplicates()\n",
    "\n",
    "# Lưu dữ liệu đã kết hợp vào một file Excel mới\n",
    "combined_data.to_excel('combined_data.xlsx', index=False)\n",
    "\n",
    "print(\"Đã kết hợp xong và lưu file: combined_data.xlsx\")\n"
   ]
  }
 ],
 "metadata": {
  "kernelspec": {
   "display_name": "Python 3",
   "language": "python",
   "name": "python3"
  },
  "language_info": {
   "codemirror_mode": {
    "name": "ipython",
    "version": 3
   },
   "file_extension": ".py",
   "mimetype": "text/x-python",
   "name": "python",
   "nbconvert_exporter": "python",
   "pygments_lexer": "ipython3",
   "version": "3.12.6"
  }
 },
 "nbformat": 4,
 "nbformat_minor": 2
}
