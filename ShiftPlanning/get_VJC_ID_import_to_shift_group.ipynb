{
 "cells": [
  {
   "metadata": {
    "ExecuteTime": {
     "end_time": "2024-11-30T02:35:42.287590Z",
     "start_time": "2024-11-30T02:35:42.258512Z"
    }
   },
   "cell_type": "code",
   "source": [
    "def convert_to_list(group):\n",
    "    # Remove whitespace\n",
    "    group = group.strip().split()\n",
    "    # Join list with semicolon - seperated string\n",
    "    fomart_string = \";\".join(group)\n",
    "    # print(fomart_string)\n",
    "    return fomart_string\n"
   ],
   "id": "b58dd310f04ec554",
   "outputs": [],
   "execution_count": 16
  },
  {
   "cell_type": "code",
   "id": "initial_id",
   "metadata": {
    "collapsed": true,
    "ExecuteTime": {
     "end_time": "2024-11-30T02:40:03.296299Z",
     "start_time": "2024-11-30T02:40:03.288939Z"
    }
   },
   "source": [
    "#  Ví dụ\n",
    "\n",
    "team2_cxr = \"\"\"\n",
    "VJC0140\n",
    "\n",
    "VJC10388\n",
    "\n",
    " VJC4052\n",
    "\n",
    " VJC7246\n",
    "\n",
    " VJC7226\n",
    "\n",
    " VJC8429\n",
    "\n",
    " VJC10898\n",
    "\n",
    "VJC11112\n",
    "\n",
    "VJC11113\n",
    "\n",
    "VJC15155\n",
    "\n",
    "VJC15839\n",
    "\n",
    "VJC15881\n",
    "\n",
    "VJC15968\n",
    "\"\"\"\n"
   ],
   "outputs": [],
   "execution_count": 20
  },
  {
   "metadata": {
    "ExecuteTime": {
     "end_time": "2024-11-30T02:40:05.122304Z",
     "start_time": "2024-11-30T02:40:05.118275Z"
    }
   },
   "cell_type": "code",
   "source": [
    "convert_to_list(team2_cxr)\n",
    "\n"
   ],
   "id": "e36f36e557d9361b",
   "outputs": [
    {
     "data": {
      "text/plain": [
       "'VJC0140;VJC10388;VJC4052;VJC7246;VJC7226;VJC8429;VJC10898;VJC11112;VJC11113;VJC15155;VJC15839;VJC15881;VJC15968'"
      ]
     },
     "execution_count": 21,
     "metadata": {},
     "output_type": "execute_result"
    }
   ],
   "execution_count": 21
  },
  {
   "metadata": {},
   "cell_type": "markdown",
   "source": "# Copy danh sách VJC ID từ các roster",
   "id": "9ee9631fd19fb92a"
  },
  {
   "metadata": {
    "ExecuteTime": {
     "end_time": "2024-11-29T11:48:54.973575Z",
     "start_time": "2024-11-29T11:48:54.969605Z"
    }
   },
   "cell_type": "code",
   "source": "# HAN",
   "id": "150059465ec8063",
   "outputs": [],
   "execution_count": 13
  },
  {
   "metadata": {
    "ExecuteTime": {
     "end_time": "2024-11-29T11:49:02.156374Z",
     "start_time": "2024-11-29T11:49:02.154293Z"
    }
   },
   "cell_type": "code",
   "source": "# SGN",
   "id": "c3316006ffa256e6",
   "outputs": [],
   "execution_count": 14
  }
 ],
 "metadata": {
  "kernelspec": {
   "display_name": "Python 3",
   "language": "python",
   "name": "python3"
  },
  "language_info": {
   "codemirror_mode": {
    "name": "ipython",
    "version": 2
   },
   "file_extension": ".py",
   "mimetype": "text/x-python",
   "name": "python",
   "nbconvert_exporter": "python",
   "pygments_lexer": "ipython2",
   "version": "2.7.6"
  }
 },
 "nbformat": 4,
 "nbformat_minor": 5
}
